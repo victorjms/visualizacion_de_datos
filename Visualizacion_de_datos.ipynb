{
  "nbformat": 4,
  "nbformat_minor": 0,
  "metadata": {
    "colab": {
      "name": "Visualizacion_de_datos",
      "provenance": [],
      "authorship_tag": "ABX9TyMwtT6yURqe1e9MCT6w+iqo",
      "include_colab_link": true
    },
    "kernelspec": {
      "name": "python3",
      "display_name": "Python 3"
    },
    "language_info": {
      "name": "python"
    }
  },
  "cells": [
    {
      "cell_type": "markdown",
      "metadata": {
        "id": "view-in-github",
        "colab_type": "text"
      },
      "source": [
        "<a href=\"https://colab.research.google.com/github/victorjms/visualizacion_de_datos/blob/main/Visualizacion_de_datos.ipynb\" target=\"_parent\"><img src=\"https://colab.research.google.com/assets/colab-badge.svg\" alt=\"Open In Colab\"/></a>"
      ]
    },
    {
      "cell_type": "markdown",
      "source": [
        "# Victor Montenegro\n",
        "## Ejercicio de visualización de datos\n",
        "\n",
        "Makeover Monday ofrece un reto semanal de recrear o mejorar visualizaciones de datos. ¡Tu tarea es elegir uno de las visualizaciones de datos para recrear o mejorar!\n",
        "\n",
        "Para hacer esto:\n",
        "\n",
        "    Elegir un conjunto de datos de la Data Sets list. Puedes elegir un conjunto de datos reciente o uno del año anterior, ¡siempre y cuando te interese!\n",
        "    Descarga los datos que elegiste.\n",
        "    Usa Python para crear una visualización informativa y placentera a la vista usando los datos que seleccionaste.\n",
        "\n",
        "También necesitas subir tu trabajo para esta tarea a GitHub, ¡así todos pueden ver lo fabulosa que es la visualización que creaste!\n",
        "\n",
        "Para hacer esto:\n",
        "\n",
        "    Crea un nuevo repositorio de GitHub con un nombre informativo para su visualización o datos. (Nota: aquí hay instrucciones de cómo hacerlo si no estás segur. Asegúrate de marcar la casilla «Inicie este repositorio con un README.»).\n",
        "    Agrega tu código al repositorio GitHub que creaste. Puedes hacerlo en Google Colab seleccionando Archivo > «Guardar una Copia en GitHub».\n",
        "    Edita el README para crear un resumen informativo de los ejercicios que explican el propósito de la tarea/visualización, los datos y qué muestra/dice la visualización que creaste. ¡También podrías querer incluir una imagen estática de tu visualización final en el README! (Nota: los README son archivos markdown. Aquí hay una hoja con soluciones de markdown syntax.) ¡Intenta hacerlo lo más informativo y profesional posible, ya que esto es lo primero que las personas verán cuando entren a tu repositorio GitHub!\n",
        "\n"
      ],
      "metadata": {
        "id": "Aqmhoe9ia60u"
      }
    },
    {
      "cell_type": "code",
      "execution_count": null,
      "metadata": {
        "id": "lgXaHVKPa0q-"
      },
      "outputs": [],
      "source": [
        ""
      ]
    }
  ]
}